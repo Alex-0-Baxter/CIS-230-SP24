{
 "cells": [
  {
   "cell_type": "markdown",
   "metadata": {},
   "source": [
    "# Language Integrated Query \n",
    "## Extension methods"
   ]
  },
  {
   "cell_type": "code",
   "execution_count": null,
   "metadata": {
    "dotnet_interactive": {
     "language": "csharp"
    },
    "polyglot_notebook": {
     "kernelName": "csharp"
    }
   },
   "outputs": [],
   "source": [
    "var tree = new Tree()\n",
    "{\n",
    "    Height = 10\n",
    "};\n",
    "\n",
    "tree.Height.Display();\n",
    "\n",
    "public class Tree\n",
    "{\n",
    "    public int Height { get; set; }\n",
    "}"
   ]
  },
  {
   "cell_type": "code",
   "execution_count": null,
   "metadata": {
    "dotnet_interactive": {
     "language": "csharp"
    },
    "polyglot_notebook": {
     "kernelName": "csharp"
    }
   },
   "outputs": [],
   "source": [
    "var tree = new Tree()\n",
    "{\n",
    "    Height = 10\n",
    "};\n",
    "\n",
    "tree.CutDown();\n",
    "\n",
    "tree.Height.Display();\n",
    "\n",
    "public class Tree\n",
    "{\n",
    "    public int Height { get; set; }\n",
    "\n",
    "    // new method\n",
    "    public void CutDown()\n",
    "    {\n",
    "        Height = 0;\n",
    "    }\n",
    "}"
   ]
  },
  {
   "cell_type": "code",
   "execution_count": null,
   "metadata": {
    "dotnet_interactive": {
     "language": "csharp"
    },
    "polyglot_notebook": {
     "kernelName": "csharp"
    }
   },
   "outputs": [],
   "source": [
    "var tree = new Tree()\n",
    "{\n",
    "    Height = 10\n",
    "};\n",
    "\n",
    "tree.CutDown();\n",
    "\n",
    "tree.Height.Display();\n",
    "\n",
    "public class Tree\n",
    "{\n",
    "    public int Height { get; set; }\n",
    "}\n",
    "\n",
    "// extension method\n",
    "public static void CutDown(this Tree tree)\n",
    "{\n",
    "    tree.Height = 0;\n",
    "}"
   ]
  },
  {
   "cell_type": "markdown",
   "metadata": {},
   "source": [
    "# Filtering an array\n",
    "The following C# code snippet demonstrates how to filter array `a` to only elements greater than 5. It iterates over the range, selecting elements greater than 5 and adds them to the List<T> `b`."
   ]
  },
  {
   "cell_type": "code",
   "execution_count": null,
   "metadata": {
    "dotnet_interactive": {
     "language": "csharp"
    },
    "polyglot_notebook": {
     "kernelName": "csharp"
    }
   },
   "outputs": [],
   "source": [
    "var a = new[]{ 1, 2, 3, 4, 5, 6, 7, 8, 9, 10 };\n",
    "\n",
    "var b = new List<int>();\n",
    "\n",
    "for (int i = 0; i < a.Count(); i++)\n",
    "{\n",
    "    var item = a.ElementAt(i);\n",
    "    if (item > 5)\n",
    "    {\n",
    "        b.Add(item);\n",
    "    }\n",
    "}\n",
    "\n",
    "b.Display();"
   ]
  },
  {
   "cell_type": "markdown",
   "metadata": {},
   "source": [
    "# The LINQ.Where() method\n",
    "Filters a sequence based on a predicate. It allows for filtering out elements from a collection based on a condition defined in a lambda expression."
   ]
  },
  {
   "cell_type": "code",
   "execution_count": null,
   "metadata": {
    "dotnet_interactive": {
     "language": "csharp"
    },
    "polyglot_notebook": {
     "kernelName": "csharp"
    }
   },
   "outputs": [],
   "source": [
    "var a = new[]{ 1, 2, 3, 4, 5, 6, 7, 8, 9, 10 };\n",
    "\n",
    "var b = a.Where(item => item > 5);\n",
    "\n",
    "b.ToArray().Display();"
   ]
  },
  {
   "cell_type": "code",
   "execution_count": null,
   "metadata": {
    "dotnet_interactive": {
     "language": "csharp"
    },
    "polyglot_notebook": {
     "kernelName": "csharp"
    }
   },
   "outputs": [],
   "source": [
    "var a = new[]{ 1, 2, 3, 4, 5, 6, 7, 8, 9, 10 };\n",
    "\n",
    "var b = a.Where(item => item % 2 == 0);\n",
    "\n",
    "b.ToArray().Display();"
   ]
  },
  {
   "cell_type": "code",
   "execution_count": null,
   "metadata": {
    "dotnet_interactive": {
     "language": "csharp"
    },
    "polyglot_notebook": {
     "kernelName": "csharp"
    }
   },
   "outputs": [],
   "source": [
    "var a = new[]{ 1, 2, 3, 4, 5, 6, 7, 8, 9, 10 };\n",
    "\n",
    "var b = a.Where(item => item > 5 && item < 7);\n",
    "\n",
    "b.ToArray().Display();"
   ]
  },
  {
   "cell_type": "code",
   "execution_count": null,
   "metadata": {
    "dotnet_interactive": {
     "language": "csharp"
    },
    "polyglot_notebook": {
     "kernelName": "csharp"
    }
   },
   "outputs": [],
   "source": [
    "var a = new[]{ 1, 2, 3, 4, 5, 6, 7, 8, 9, 10 };\n",
    "\n",
    "var b = a.Where(item => item > 5).Where(item => item < 7);\n",
    "\n",
    "b.ToArray().Display();"
   ]
  },
  {
   "cell_type": "code",
   "execution_count": null,
   "metadata": {
    "dotnet_interactive": {
     "language": "csharp"
    },
    "polyglot_notebook": {
     "kernelName": "csharp"
    }
   },
   "outputs": [],
   "source": [
    "var a = new[]{ 1, 2, 3, 4, 5, 6, 7, 8, 9, 10 };\n",
    "\n",
    "var b = a.Where(item => true);\n",
    "\n",
    "b.ToArray().Display();"
   ]
  },
  {
   "cell_type": "code",
   "execution_count": null,
   "metadata": {
    "dotnet_interactive": {
     "language": "csharp"
    },
    "polyglot_notebook": {
     "kernelName": "csharp"
    }
   },
   "outputs": [],
   "source": [
    "var a = new[]{ 1, 2, 3, 4, 5, 6, 7, 8, 9, 10 };\n",
    "\n",
    "var b = a.Where(item => false);\n",
    "\n",
    "b.ToArray().Display();"
   ]
  },
  {
   "cell_type": "code",
   "execution_count": null,
   "metadata": {
    "dotnet_interactive": {
     "language": "csharp"
    },
    "polyglot_notebook": {
     "kernelName": "csharp"
    }
   },
   "outputs": [],
   "source": [
    "var a = new[]{ 1, 2, 3, 4, 5, 6, 7, 8, 9, 10 };\n",
    "\n",
    "var b = a.Where(item => new[]{ 1, 2, 3 }.Contains(item));\n",
    "\n",
    "b.ToArray().Display();"
   ]
  },
  {
   "cell_type": "code",
   "execution_count": null,
   "metadata": {
    "dotnet_interactive": {
     "language": "csharp"
    },
    "polyglot_notebook": {
     "kernelName": "csharp"
    }
   },
   "outputs": [],
   "source": [
    "var a = new[]{ 1, 2, 3, 4, 5, 6, 7, 8, 9, 10 };\n",
    "\n",
    "var b = a.Where(jerryNixon => jerryNixon <= 9);\n",
    "\n",
    "b.ToArray().Display();"
   ]
  },
  {
   "cell_type": "code",
   "execution_count": null,
   "metadata": {
    "dotnet_interactive": {
     "language": "csharp"
    },
    "polyglot_notebook": {
     "kernelName": "csharp"
    }
   },
   "outputs": [],
   "source": [
    "var a = new[]{ 1, 2, 3, 4, 5, 6, 7, 8, 9, 10 };\n",
    "\n",
    "var b = a.Where((x) => x <= 9);\n",
    "\n",
    "b.ToArray().Display();"
   ]
  },
  {
   "cell_type": "code",
   "execution_count": null,
   "metadata": {
    "dotnet_interactive": {
     "language": "csharp"
    },
    "polyglot_notebook": {
     "kernelName": "csharp"
    }
   },
   "outputs": [],
   "source": [
    "var a = new[]{ 1, 2, 3, 4, 5, 6, 7, 8, 9, 10 };\n",
    "\n",
    "var b = a.Where((int x) => x <= 9);\n",
    "\n",
    "b.ToArray().Display();"
   ]
  },
  {
   "cell_type": "code",
   "execution_count": null,
   "metadata": {
    "dotnet_interactive": {
     "language": "csharp"
    },
    "polyglot_notebook": {
     "kernelName": "csharp"
    }
   },
   "outputs": [],
   "source": [
    "var a = new[]{ 1, 2, 3, 4, 5, 6, 7, 8, 9, 10 };\n",
    "\n",
    "var b = a.Where(x => Filter(x));\n",
    "\n",
    "b.ToArray().Display();\n",
    "\n",
    "bool Filter(int x)\n",
    "{\n",
    "    return x <= 9;\n",
    "}"
   ]
  },
  {
   "cell_type": "code",
   "execution_count": null,
   "metadata": {
    "dotnet_interactive": {
     "language": "csharp"
    },
    "polyglot_notebook": {
     "kernelName": "csharp"
    }
   },
   "outputs": [],
   "source": [
    "var a = new[]{ 1, 2, 3, 4, 5, 6, 7, 8, 9, 10 };\n",
    "\n",
    "var b = a.Where(Filter);\n",
    "\n",
    "b.ToArray().Display();\n",
    "\n",
    "bool Filter(int x)\n",
    "{\n",
    "    return x <= 9;\n",
    "}"
   ]
  },
  {
   "cell_type": "markdown",
   "metadata": {},
   "source": [
    "# Projecting data"
   ]
  },
  {
   "cell_type": "code",
   "execution_count": null,
   "metadata": {
    "dotnet_interactive": {
     "language": "csharp"
    },
    "polyglot_notebook": {
     "kernelName": "csharp"
    }
   },
   "outputs": [],
   "source": [
    "int[] a = {1, 2, 3, 4, 5};\n",
    "List<int> b = new List<int>();\n",
    "\n",
    "foreach (var item in a)\n",
    "{\n",
    "    b.Add(item * 2);\n",
    "}\n",
    "\n",
    "b.ToArray().Display();"
   ]
  },
  {
   "cell_type": "markdown",
   "metadata": {},
   "source": [
    "# The LINQ.Select() method"
   ]
  },
  {
   "cell_type": "code",
   "execution_count": null,
   "metadata": {
    "dotnet_interactive": {
     "language": "csharp"
    },
    "polyglot_notebook": {
     "kernelName": "csharp"
    }
   },
   "outputs": [],
   "source": [
    "int[] a = {1, 2, 3, 4, 5};\n",
    "\n",
    "var b = a.Select(item => item * 2);\n",
    "\n",
    "b.ToArray().Display();"
   ]
  },
  {
   "cell_type": "code",
   "execution_count": null,
   "metadata": {
    "dotnet_interactive": {
     "language": "csharp"
    },
    "polyglot_notebook": {
     "kernelName": "csharp"
    }
   },
   "outputs": [],
   "source": [
    "int[] a = {1, 2, 3, 4, 5};\n",
    "\n",
    "var b = a.Select(item => item);\n",
    "\n",
    "b.ToArray().Display();"
   ]
  },
  {
   "cell_type": "code",
   "execution_count": null,
   "metadata": {
    "dotnet_interactive": {
     "language": "csharp"
    },
    "polyglot_notebook": {
     "kernelName": "csharp"
    }
   },
   "outputs": [],
   "source": [
    "int[] a = {1, 2, 3, 4, 5};\n",
    "\n",
    "var b = a.Select(x => x);\n",
    "\n",
    "b.ToArray().Display();"
   ]
  },
  {
   "cell_type": "code",
   "execution_count": null,
   "metadata": {
    "dotnet_interactive": {
     "language": "csharp"
    },
    "polyglot_notebook": {
     "kernelName": "csharp"
    }
   },
   "outputs": [],
   "source": [
    "int[] a = {1, 2, 3, 4, 5};\n",
    "\n",
    "var b = a.Select((x) => x);\n",
    "\n",
    "b.ToArray().Display();"
   ]
  },
  {
   "cell_type": "code",
   "execution_count": null,
   "metadata": {
    "dotnet_interactive": {
     "language": "csharp"
    },
    "polyglot_notebook": {
     "kernelName": "csharp"
    }
   },
   "outputs": [],
   "source": [
    "int[] a = {1, 2, 3, 4, 5};\n",
    "\n",
    "var b = a.Select((int x) => x);\n",
    "\n",
    "b.ToArray().Display();"
   ]
  },
  {
   "cell_type": "code",
   "execution_count": null,
   "metadata": {
    "dotnet_interactive": {
     "language": "csharp"
    },
    "polyglot_notebook": {
     "kernelName": "csharp"
    }
   },
   "outputs": [],
   "source": [
    "int[] a = {1, 2, 3, 4, 5};\n",
    "\n",
    "var b = a.Select(number => DateTime.Now.AddDays(number).DayOfWeek);\n",
    "\n",
    "b.ToArray().Display();"
   ]
  },
  {
   "cell_type": "code",
   "execution_count": null,
   "metadata": {
    "dotnet_interactive": {
     "language": "csharp"
    },
    "polyglot_notebook": {
     "kernelName": "csharp"
    }
   },
   "outputs": [],
   "source": [
    "int[] a = {1, 2, 3, 4, 5};\n",
    "\n",
    "var b = a.Select(number => $\"{number} is a number\");\n",
    "\n",
    "b.ToArray().Display();"
   ]
  },
  {
   "cell_type": "code",
   "execution_count": null,
   "metadata": {
    "dotnet_interactive": {
     "language": "csharp"
    },
    "polyglot_notebook": {
     "kernelName": "csharp"
    }
   },
   "outputs": [],
   "source": [
    "int[] a = {1, 2, 3, 4, 5};\n",
    "\n",
    "var b = a.Select(number => new string('C', number) + 'U');\n",
    "\n",
    "b.ToArray().Display();"
   ]
  },
  {
   "cell_type": "code",
   "execution_count": null,
   "metadata": {
    "dotnet_interactive": {
     "language": "csharp"
    },
    "polyglot_notebook": {
     "kernelName": "csharp"
    }
   },
   "outputs": [],
   "source": [
    "int[] a = {1, 2, 3, 4, 5};\n",
    "\n",
    "var b = a.Select(number => new string('C', number) + 'U')\n",
    "         .Where(value => value.Contains(\"CCU\"));\n",
    "\n",
    "b.ToArray().Display();"
   ]
  },
  {
   "cell_type": "code",
   "execution_count": null,
   "metadata": {
    "dotnet_interactive": {
     "language": "csharp"
    },
    "polyglot_notebook": {
     "kernelName": "csharp"
    }
   },
   "outputs": [],
   "source": [
    "int[] a = {1, 2, 3, 4, 5};\n",
    "\n",
    "var b = a.Where(number => number < 3)\n",
    "         .Select(number => new string('C', number) + 'U');\n",
    "\n",
    "b.ToArray().Display();"
   ]
  },
  {
   "cell_type": "markdown",
   "metadata": {},
   "source": [
    "# Sorting data"
   ]
  },
  {
   "cell_type": "code",
   "execution_count": null,
   "metadata": {
    "dotnet_interactive": {
     "language": "csharp"
    },
    "polyglot_notebook": {
     "kernelName": "csharp"
    }
   },
   "outputs": [],
   "source": [
    "var a = new[] { \"One\", \"Two\", \"Three\", \"Four\", \"Five\" };\n",
    "\n",
    "bool swapped = false;\n",
    "do\n",
    "{\n",
    "    swapped = false;\n",
    "    for (int i = 0; i < a.Length - 1; i++)\n",
    "    {\n",
    "        if (string.Compare(a[i], a[i + 1]) > 0)\n",
    "        {\n",
    "            (a[i], a[i + 1]) = (a[i + 1], a[i]);\n",
    "            swapped = true; \n",
    "        }\n",
    "    }\n",
    "} while (swapped);\n",
    "\n",
    "a.Display();"
   ]
  },
  {
   "cell_type": "markdown",
   "metadata": {},
   "source": [
    "# The LINQ.OrderBy() method"
   ]
  },
  {
   "cell_type": "code",
   "execution_count": null,
   "metadata": {
    "dotnet_interactive": {
     "language": "csharp"
    },
    "polyglot_notebook": {
     "kernelName": "csharp"
    }
   },
   "outputs": [],
   "source": [
    "var a = new[] {\"One\", \"Two\", \"Three\", \"Four\", \"Five\"};\n",
    "\n",
    "var b = a.OrderBy(x => x);\n",
    "\n",
    "b.ToArray().Display();"
   ]
  },
  {
   "cell_type": "code",
   "execution_count": null,
   "metadata": {
    "dotnet_interactive": {
     "language": "csharp"
    },
    "polyglot_notebook": {
     "kernelName": "csharp"
    }
   },
   "outputs": [],
   "source": [
    "var a = new[] {\"One\", \"Two\", \"Three\", \"Four\", \"Five\"};\n",
    "\n",
    "var b = a.OrderBy(x => x.Length);\n",
    "\n",
    "b.ToArray().Display();"
   ]
  },
  {
   "cell_type": "code",
   "execution_count": null,
   "metadata": {
    "dotnet_interactive": {
     "language": "csharp"
    },
    "polyglot_notebook": {
     "kernelName": "csharp"
    }
   },
   "outputs": [],
   "source": [
    "var a = new[] {\"One\", \"Two\", \"Three\", \"Four\", \"Five\"};\n",
    "\n",
    "var b = a.OrderBy(x => x[1]);\n",
    "\n",
    "b.ToArray().Display();"
   ]
  },
  {
   "cell_type": "code",
   "execution_count": null,
   "metadata": {
    "dotnet_interactive": {
     "language": "csharp"
    },
    "polyglot_notebook": {
     "kernelName": "csharp"
    }
   },
   "outputs": [],
   "source": [
    "var a = new[] {1, 2, 3, 4, 5};\n",
    "\n",
    "var b = a.OrderBy(x => x);\n",
    "\n",
    "b.ToArray().Display();"
   ]
  },
  {
   "cell_type": "code",
   "execution_count": null,
   "metadata": {
    "dotnet_interactive": {
     "language": "csharp"
    },
    "polyglot_notebook": {
     "kernelName": "csharp"
    }
   },
   "outputs": [],
   "source": [
    "var a = new[] {1, 2, 3, 4, 5};\n",
    "\n",
    "var b = a.OrderByDescending(x => x);\n",
    "\n",
    "b.ToArray().Display();"
   ]
  },
  {
   "cell_type": "code",
   "execution_count": null,
   "metadata": {
    "dotnet_interactive": {
     "language": "csharp"
    },
    "polyglot_notebook": {
     "kernelName": "csharp"
    }
   },
   "outputs": [],
   "source": [
    "var a = new[] {\"One\", \"Two\", \"Three\", \"Four\", \"Five\"};\n",
    "\n",
    "var b = a.Reverse().OrderBy(x => x);\n",
    "\n",
    "b.ToArray().Display();"
   ]
  },
  {
   "cell_type": "code",
   "execution_count": null,
   "metadata": {
    "dotnet_interactive": {
     "language": "csharp"
    },
    "polyglot_notebook": {
     "kernelName": "csharp"
    }
   },
   "outputs": [],
   "source": [
    "var a = new[] {\"One\", \"Two\", \"Three\", \"Four\", \"Five\"};\n",
    "\n",
    "var b = a.OrderBy(x => x.Length);\n",
    "\n",
    "b.ToArray().Display();\n",
    "\n",
    "b = a.OrderBy(x => x.Length).ThenBy(x => x);\n",
    "\n",
    "b.ToArray().Display();"
   ]
  },
  {
   "cell_type": "code",
   "execution_count": null,
   "metadata": {
    "dotnet_interactive": {
     "language": "csharp"
    },
    "polyglot_notebook": {
     "kernelName": "csharp"
    }
   },
   "outputs": [],
   "source": [
    "var a = new[] {\"One\", \"Two\", \"Three\", \"Four\", \"Five\"};\n",
    "\n",
    "var b = a.OrderBy(x => x.Length)\n",
    "         .ThenBy(x => x)\n",
    "         .Where(x => x.Length > 3)\n",
    "         .Select(x => x.ToUpper());\n",
    "\n",
    "b.ToArray().Display();"
   ]
  },
  {
   "cell_type": "code",
   "execution_count": null,
   "metadata": {
    "dotnet_interactive": {
     "language": "csharp"
    },
    "polyglot_notebook": {
     "kernelName": "csharp"
    }
   },
   "outputs": [],
   "source": [
    "var a = new[] {\"One\", \"Two\", \"Three\", \"Four\", \"Five\"};\n",
    "\n",
    "var b = a.Select(x => x.ToUpper())\n",
    "         .Where(x => x.Length > 3)\n",
    "         .OrderBy(x => x.Length)\n",
    "         .ThenByDescending(x => x);\n",
    "\n",
    "b.ToArray().Display();"
   ]
  },
  {
   "cell_type": "markdown",
   "metadata": {},
   "source": [
    "# Skip\n",
    "`Skip()`: Bypasses a specified number of elements in a sequence.\n",
    "\n",
    "**Similar to Range**\n",
    "\n",
    "| Operator | Description                                   |\n",
    "|----------|-----------------------------------------------|\n",
    "| `a[^1]`     | Last element.                                 |\n",
    "| `a[1..3]`   | Slice from index 1 to 3, exclusive.           |\n",
    "| `a[..^1]`   | From start to one before last.                |\n",
    "| `a[2..]`    | From index 2 to end.                          |\n",
    "| `a[..3]`    | From start up to, but not including, index 3. |"
   ]
  },
  {
   "cell_type": "code",
   "execution_count": null,
   "metadata": {
    "dotnet_interactive": {
     "language": "csharp"
    },
    "polyglot_notebook": {
     "kernelName": "csharp"
    }
   },
   "outputs": [],
   "source": [
    "var a = new[] { 1, 2, 3, 4, 5 };\n",
    "\n",
    "var b = a[3..];\n",
    "\n",
    "b.Display();"
   ]
  },
  {
   "cell_type": "code",
   "execution_count": null,
   "metadata": {
    "dotnet_interactive": {
     "language": "csharp"
    },
    "polyglot_notebook": {
     "kernelName": "csharp"
    }
   },
   "outputs": [],
   "source": [
    "var a = new[] { 1, 2, 3, 4, 5 };\n",
    "\n",
    "var b = a.Skip(3);\n",
    "\n",
    "b.Display();"
   ]
  },
  {
   "cell_type": "code",
   "execution_count": null,
   "metadata": {
    "dotnet_interactive": {
     "language": "csharp"
    },
    "polyglot_notebook": {
     "kernelName": "csharp"
    }
   },
   "outputs": [],
   "source": [
    "var a = new[] { 1, 2, 3, 4, 5 };\n",
    "\n",
    "var b = a.Skip(3)\n",
    "         .Where(x => x % 2 == 0);\n",
    "\n",
    "b.Display();"
   ]
  },
  {
   "cell_type": "markdown",
   "metadata": {},
   "source": [
    " # Take\n",
    " `Take()`: Returns a specified number of elements from the start of a sequence."
   ]
  },
  {
   "cell_type": "code",
   "execution_count": null,
   "metadata": {
    "dotnet_interactive": {
     "language": "csharp"
    },
    "polyglot_notebook": {
     "kernelName": "csharp"
    }
   },
   "outputs": [],
   "source": [
    "var a = new[] { 1, 2, 3, 4, 5 };\n",
    "\n",
    "var b = a[..4];\n",
    "\n",
    "b.Display();"
   ]
  },
  {
   "cell_type": "code",
   "execution_count": null,
   "metadata": {
    "dotnet_interactive": {
     "language": "csharp"
    },
    "polyglot_notebook": {
     "kernelName": "csharp"
    }
   },
   "outputs": [],
   "source": [
    "var a = new[] { 1, 2, 3, 4, 5 };\n",
    "\n",
    "var b = a.Take(4);\n",
    "\n",
    "b.Display();"
   ]
  },
  {
   "cell_type": "code",
   "execution_count": null,
   "metadata": {
    "dotnet_interactive": {
     "language": "csharp"
    },
    "polyglot_notebook": {
     "kernelName": "csharp"
    }
   },
   "outputs": [],
   "source": [
    "var a = new[] { 1, 2, 3, 4, 5 };\n",
    "\n",
    "var b = a[2..4];\n",
    "\n",
    "b.Display();"
   ]
  },
  {
   "cell_type": "code",
   "execution_count": null,
   "metadata": {
    "dotnet_interactive": {
     "language": "csharp"
    },
    "polyglot_notebook": {
     "kernelName": "csharp"
    }
   },
   "outputs": [],
   "source": [
    "var a = new[] { 1, 2, 3, 4, 5 };\n",
    "\n",
    "var b = a.Skip(2).Take(2);\n",
    "\n",
    "b.Display();"
   ]
  },
  {
   "cell_type": "code",
   "execution_count": null,
   "metadata": {
    "dotnet_interactive": {
     "language": "csharp"
    },
    "polyglot_notebook": {
     "kernelName": "csharp"
    }
   },
   "outputs": [],
   "source": [
    "var a = new[] { 1, 2, 3, 4, 5 };\n",
    "\n",
    "var b = a.Take(2).Skip(2);\n",
    "\n",
    "b.Display();"
   ]
  },
  {
   "cell_type": "code",
   "execution_count": null,
   "metadata": {
    "dotnet_interactive": {
     "language": "csharp"
    },
    "polyglot_notebook": {
     "kernelName": "csharp"
    }
   },
   "outputs": [],
   "source": [
    "var a = new[] { 1, 2, 3, 4, 5 };\n",
    "\n",
    "var b = a.Where(x => x > 2).Take(2);\n",
    "\n",
    "b.Display();"
   ]
  },
  {
   "cell_type": "markdown",
   "metadata": {},
   "source": [
    "# First() or FirstOrDefault()"
   ]
  },
  {
   "cell_type": "code",
   "execution_count": null,
   "metadata": {
    "dotnet_interactive": {
     "language": "csharp"
    },
    "polyglot_notebook": {
     "kernelName": "csharp"
    }
   },
   "outputs": [],
   "source": [
    "var a = new[] { 1, 2, 3, 4, 5 };\n",
    "\n",
    "var b = a.Take(1);\n",
    "\n",
    "b.GetType().Display();\n",
    "b.Display();"
   ]
  },
  {
   "cell_type": "code",
   "execution_count": null,
   "metadata": {
    "dotnet_interactive": {
     "language": "csharp"
    },
    "polyglot_notebook": {
     "kernelName": "csharp"
    }
   },
   "outputs": [],
   "source": [
    "var a = new[] { 1, 2, 3, 4, 5 };\n",
    "\n",
    "var b = a.First();\n",
    "\n",
    "b.GetType().Display();\n",
    "b.Display();"
   ]
  },
  {
   "cell_type": "code",
   "execution_count": null,
   "metadata": {
    "dotnet_interactive": {
     "language": "csharp"
    },
    "polyglot_notebook": {
     "kernelName": "csharp"
    }
   },
   "outputs": [],
   "source": [
    "var a = new[] { 1, 2, 3, 4, 5 };\n",
    "\n",
    "var b = a.Where(x => x == 6).First();\n",
    "\n",
    "b.Display();"
   ]
  },
  {
   "cell_type": "code",
   "execution_count": null,
   "metadata": {
    "dotnet_interactive": {
     "language": "csharp"
    },
    "polyglot_notebook": {
     "kernelName": "csharp"
    }
   },
   "outputs": [],
   "source": [
    "var a = new[] { 1, 2, 3, 4, 5 };\n",
    "\n",
    "var b = a.Where(x => x == 6).FirstOrDefault();\n",
    "\n",
    "b.Display();"
   ]
  },
  {
   "cell_type": "code",
   "execution_count": null,
   "metadata": {
    "dotnet_interactive": {
     "language": "csharp"
    },
    "polyglot_notebook": {
     "kernelName": "csharp"
    }
   },
   "outputs": [],
   "source": [
    "var a = new[] { 1, 2, 3, 4, 5 };\n",
    "\n",
    "var b = a.First();\n",
    "var c = a.FirstOrDefault();\n",
    "\n",
    "b.Display();\n",
    "c.Display();"
   ]
  },
  {
   "cell_type": "markdown",
   "metadata": {},
   "source": [
    "| Value Type  | Default Value |\n",
    "|-------------|---------------|\n",
    "| `int`       | 0             |\n",
    "| `double`    | 0.0           |\n",
    "| `float`     | 0.0F          |\n",
    "| `decimal`   | 0.0M          |\n",
    "| `char`      | '\\0' (the null character)          |\n",
    "| `bool`      | `false`       |\n",
    "| `byte`      | 0             |\n",
    "| `DateTime`  | DateTime.MinValue (1/1/0001 12:00:00 AM) |"
   ]
  },
  {
   "cell_type": "code",
   "execution_count": null,
   "metadata": {
    "dotnet_interactive": {
     "language": "csharp"
    },
    "polyglot_notebook": {
     "kernelName": "csharp"
    }
   },
   "outputs": [],
   "source": [
    "var a = new[] { 1, 2, 3, 4, 5 };\n",
    "\n",
    "var b = a.Last();\n",
    "var c = a.LastOrDefault();\n",
    "\n",
    "b.Display();\n",
    "c.Display();"
   ]
  },
  {
   "cell_type": "code",
   "execution_count": null,
   "metadata": {
    "dotnet_interactive": {
     "language": "csharp"
    },
    "polyglot_notebook": {
     "kernelName": "csharp"
    }
   },
   "outputs": [],
   "source": [
    "var a = new[] { 1, 2, 3, 4, 5 };\n",
    "\n",
    "var b = a.Take(4).Skip(1).First();\n",
    "var c = a.Take(4).Skip(1).Last();\n",
    "\n",
    "b.Display();\n",
    "c.Display();"
   ]
  },
  {
   "cell_type": "markdown",
   "metadata": {},
   "source": [
    "# Other handy methods\n",
    "## Sum()"
   ]
  },
  {
   "cell_type": "code",
   "execution_count": null,
   "metadata": {
    "dotnet_interactive": {
     "language": "csharp"
    },
    "polyglot_notebook": {
     "kernelName": "csharp"
    }
   },
   "outputs": [],
   "source": [
    "var a = new[] { 1, 2, 3, 4, 5 };\n",
    "\n",
    "var b = a.Sum();\n",
    "\n",
    "b.Display();"
   ]
  },
  {
   "cell_type": "code",
   "execution_count": null,
   "metadata": {
    "dotnet_interactive": {
     "language": "csharp"
    },
    "polyglot_notebook": {
     "kernelName": "csharp"
    }
   },
   "outputs": [],
   "source": [
    "var a = new[] { 1, 2, 3, 4, 5 };\n",
    "\n",
    "var b = a.Sum(x => x + 1);\n",
    "\n",
    "b.Display();"
   ]
  },
  {
   "cell_type": "markdown",
   "metadata": {},
   "source": [
    "## Average()"
   ]
  },
  {
   "cell_type": "code",
   "execution_count": null,
   "metadata": {
    "dotnet_interactive": {
     "language": "csharp"
    },
    "polyglot_notebook": {
     "kernelName": "csharp"
    }
   },
   "outputs": [],
   "source": [
    "var a = new[] { 1, 2, 3, 4, 5 };\n",
    "\n",
    "var b = a.Average();\n",
    "\n",
    "b.Display();"
   ]
  },
  {
   "cell_type": "code",
   "execution_count": null,
   "metadata": {
    "dotnet_interactive": {
     "language": "csharp"
    },
    "polyglot_notebook": {
     "kernelName": "csharp"
    }
   },
   "outputs": [],
   "source": [
    "var a = new[] { 1, 2, 3, 4, 5 };\n",
    "\n",
    "var b = a.Average(x => x + 1);\n",
    "\n",
    "b.Display();"
   ]
  },
  {
   "cell_type": "markdown",
   "metadata": {},
   "source": [
    "## Min()"
   ]
  },
  {
   "cell_type": "code",
   "execution_count": null,
   "metadata": {
    "dotnet_interactive": {
     "language": "csharp"
    },
    "polyglot_notebook": {
     "kernelName": "csharp"
    }
   },
   "outputs": [],
   "source": [
    "var a = new[] { 1, 2, 3, 4, 5 };\n",
    "\n",
    "var b = a.Min();\n",
    "\n",
    "b.Display();"
   ]
  },
  {
   "cell_type": "markdown",
   "metadata": {},
   "source": [
    "## Max()"
   ]
  },
  {
   "cell_type": "code",
   "execution_count": null,
   "metadata": {
    "dotnet_interactive": {
     "language": "csharp"
    },
    "polyglot_notebook": {
     "kernelName": "csharp"
    }
   },
   "outputs": [],
   "source": [
    "var a = new[] { 1, 2, 3, 4, 5 };\n",
    "\n",
    "var b = a.Max();\n",
    "\n",
    "b.Display();"
   ]
  },
  {
   "cell_type": "markdown",
   "metadata": {},
   "source": [
    "## Count()"
   ]
  },
  {
   "cell_type": "code",
   "execution_count": null,
   "metadata": {
    "dotnet_interactive": {
     "language": "csharp"
    },
    "polyglot_notebook": {
     "kernelName": "csharp"
    }
   },
   "outputs": [],
   "source": [
    "var a = new[] { 1, 2, 3, 4, 5 };\n",
    "\n",
    "var b = a.Count();\n",
    "\n",
    "b.Display();"
   ]
  },
  {
   "cell_type": "code",
   "execution_count": null,
   "metadata": {
    "dotnet_interactive": {
     "language": "csharp"
    },
    "polyglot_notebook": {
     "kernelName": "csharp"
    }
   },
   "outputs": [],
   "source": [
    "var a = new[] { 1, 2, 3, 4, 5 };\n",
    "\n",
    "var b = a.Count(x => x > 3);\n",
    "\n",
    "b.Display();"
   ]
  },
  {
   "cell_type": "markdown",
   "metadata": {},
   "source": [
    "## Any()"
   ]
  },
  {
   "cell_type": "code",
   "execution_count": null,
   "metadata": {
    "dotnet_interactive": {
     "language": "csharp"
    },
    "polyglot_notebook": {
     "kernelName": "csharp"
    }
   },
   "outputs": [],
   "source": [
    "var a = new[] { 1, 2, 3, 4, 5 };\n",
    "\n",
    "var b = a.Any();\n",
    "\n",
    "b.Display();"
   ]
  },
  {
   "cell_type": "code",
   "execution_count": null,
   "metadata": {
    "dotnet_interactive": {
     "language": "csharp"
    },
    "polyglot_notebook": {
     "kernelName": "csharp"
    }
   },
   "outputs": [],
   "source": [
    "var a = new[] { 1, 2, 3, 4, 5 };\n",
    "\n",
    "var b = a.Any(x => x % 2 == 0);\n",
    "\n",
    "b.Display();"
   ]
  },
  {
   "cell_type": "markdown",
   "metadata": {},
   "source": [
    "## All()"
   ]
  },
  {
   "cell_type": "code",
   "execution_count": null,
   "metadata": {
    "dotnet_interactive": {
     "language": "csharp"
    },
    "polyglot_notebook": {
     "kernelName": "csharp"
    }
   },
   "outputs": [],
   "source": [
    "var a = new[] { 1, 2, 3, 4, 5 };\n",
    "\n",
    "var b = a.All(x => x % 2 == 0);\n",
    "\n",
    "b.Display();"
   ]
  },
  {
   "cell_type": "code",
   "execution_count": null,
   "metadata": {
    "dotnet_interactive": {
     "language": "csharp"
    },
    "polyglot_notebook": {
     "kernelName": "csharp"
    }
   },
   "outputs": [],
   "source": [
    "var a = new[] { 1, 2, 3, 4, 5 };\n",
    "\n",
    "var b = a.All(x => x > 0);\n",
    "\n",
    "b.Display();"
   ]
  },
  {
   "cell_type": "code",
   "execution_count": null,
   "metadata": {
    "dotnet_interactive": {
     "language": "csharp"
    },
    "polyglot_notebook": {
     "kernelName": "csharp"
    }
   },
   "outputs": [],
   "source": [
    "var a = new[] { 1, 2, 3, 4, 5 };\n",
    "\n",
    "var b = a.All(x => x < 0);\n",
    "\n",
    "b.Display();"
   ]
  },
  {
   "cell_type": "markdown",
   "metadata": {},
   "source": [
    "## Zip()"
   ]
  },
  {
   "cell_type": "code",
   "execution_count": null,
   "metadata": {
    "dotnet_interactive": {
     "language": "csharp"
    },
    "polyglot_notebook": {
     "kernelName": "csharp"
    }
   },
   "outputs": [],
   "source": [
    "var a = new[] { 1, 2, 3, 4, 5 };\n",
    "var b = new[] { 1, 2, 3, 4, 5 };\n",
    "\n",
    "var c = a.Zip(b, (x, y) => $\"{x} and {y}\");\n",
    "\n",
    "c.Display();"
   ]
  },
  {
   "cell_type": "markdown",
   "metadata": {},
   "source": [
    "## Single()"
   ]
  },
  {
   "cell_type": "code",
   "execution_count": null,
   "metadata": {
    "dotnet_interactive": {
     "language": "csharp"
    },
    "polyglot_notebook": {
     "kernelName": "csharp"
    }
   },
   "outputs": [],
   "source": [
    "var a = new[] { 1, 2, 3, 4, 5 };\n",
    "\n",
    "var b = a.Single();\n",
    "\n",
    "b.Display();"
   ]
  },
  {
   "cell_type": "code",
   "execution_count": null,
   "metadata": {
    "dotnet_interactive": {
     "language": "csharp"
    },
    "polyglot_notebook": {
     "kernelName": "csharp"
    }
   },
   "outputs": [],
   "source": [
    "var a = new[] { 1 };\n",
    "\n",
    "var b = a.Single();\n",
    "\n",
    "b.Display();"
   ]
  },
  {
   "cell_type": "code",
   "execution_count": null,
   "metadata": {
    "dotnet_interactive": {
     "language": "csharp"
    },
    "polyglot_notebook": {
     "kernelName": "csharp"
    }
   },
   "outputs": [],
   "source": [
    "var a = new[] { 1, 2, 3, 4, 5 };\n",
    "\n",
    "var b = a.Where(x => x == 2).Single();\n",
    "\n",
    "b.Display();"
   ]
  },
  {
   "cell_type": "markdown",
   "metadata": {},
   "source": [
    "# Common LINQ methods\n",
    "1. `Any()`\n",
    "1. `All()`\n",
    "1. `Count()`\n",
    "1. `Sum()`\n",
    "1. `Average()`\n",
    "1. `Min()`\n",
    "1. `Max()`\n",
    "1. `Distinct()`\n",
    "1. `Skip()`\n",
    "1. `Take()`\n",
    "1. `First()` / `FirstOrDefault()`\n",
    "1. `Last()` / `LastOrDefault()`\n",
    "1. `Single()` / `SingleOrDefault()`\n",
    "1. `Zip()`\n",
    "1. `Reverse()`"
   ]
  }
 ],
 "metadata": {
  "kernelspec": {
   "display_name": ".NET (C#)",
   "language": "C#",
   "name": ".net-csharp"
  },
  "language_info": {
   "name": "polyglot-notebook"
  },
  "polyglot_notebook": {
   "kernelInfo": {
    "defaultKernelName": "csharp",
    "items": [
     {
      "aliases": [],
      "languageName": "csharp",
      "name": "csharp"
     }
    ]
   }
  }
 },
 "nbformat": 4,
 "nbformat_minor": 2
}
